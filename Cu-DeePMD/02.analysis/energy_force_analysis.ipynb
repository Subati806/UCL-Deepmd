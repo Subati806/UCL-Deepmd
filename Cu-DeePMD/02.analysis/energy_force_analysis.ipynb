{
 "cells": [
  {
   "cell_type": "code",
   "execution_count": null,
   "id": "a847ea21-7beb-439d-ba52-203d05cce85b",
   "metadata": {},
   "outputs": [],
   "source": [
    "import os\n",
    "import dpdata\n",
    "import numpy as np\n",
    "import matplotlib.pyplot as plt\n",
    "\n",
    "# 设置正确路径\n",
    "train_path = \"/home/jovyan/Desktop/Cu-DeePMD/00.data/training_data\"\n",
    "model_path = \"/home/jovyan/Desktop/Cu-DeePMD/01.train.finished/frozen_model.pb\"\n",
    "\n",
    "# 加载数据集\n",
    "train_sys = dpdata.LabeledSystem(train_path, fmt=\"deepmd/npy\")\n",
    "\n",
    "# 模型预测\n",
    "predict = train_sys.predict(model_path)\n",
    "\n",
    "# === 图1: 能量预测 vs DFT ===\n",
    "plt.figure()\n",
    "plt.scatter(train_sys[\"energies\"], predict[\"energies\"], s=10)\n",
    "x = np.linspace(min(train_sys[\"energies\"]), max(train_sys[\"energies\"]), 100)\n",
    "plt.plot(x, x, 'r--', linewidth=0.5)\n",
    "plt.xlabel(\"Energy of DFT\")\n",
    "plt.ylabel(\"Energy predicted by DP\")\n",
    "plt.title(\"Energy: DFT vs Deep Potential\")\n",
    "plt.grid(True)\n",
    "plt.show()\n",
    "\n",
    "# === 图2: 能量误差直方图 ===\n",
    "energy_error = (predict[\"energies\"] - train_sys[\"energies\"])\n",
    "plt.figure()\n",
    "plt.hist(energy_error, bins=40, edgecolor='black')\n",
    "plt.xlabel(\"Energy Error (eV)\")\n",
    "plt.ylabel(\"Counts\")\n",
    "plt.title(\"Histogram of Energy Errors\")\n",
    "plt.grid(True)\n",
    "plt.show()\n",
    "\n",
    "# === 图3: 力误差直方图 ===\n",
    "force_error = (predict[\"forces\"] - train_sys[\"forces\"]).reshape(-1)\n",
    "plt.figure()\n",
    "plt.hist(force_error, bins=50, edgecolor='black')\n",
    "plt.xlabel(\"Force Error (eV/Å)\")\n",
    "plt.ylabel(\"Counts\")\n",
    "plt.title(\"Histogram of Force Errors\")\n",
    "plt.grid(True)\n",
    "plt.show()\n"
   ]
  },
  {
   "cell_type": "code",
   "execution_count": null,
   "id": "16106c28-f5b7-4d71-928b-f83093d50efd",
   "metadata": {},
   "outputs": [],
   "source": []
  }
 ],
 "metadata": {
  "kernelspec": {
   "display_name": "apps",
   "language": "python",
   "name": "apps"
  },
  "language_info": {
   "codemirror_mode": {
    "name": "ipython",
    "version": 3
   },
   "file_extension": ".py",
   "mimetype": "text/x-python",
   "name": "python",
   "nbconvert_exporter": "python",
   "pygments_lexer": "ipython3",
   "version": "3.12.10"
  }
 },
 "nbformat": 4,
 "nbformat_minor": 5
}
