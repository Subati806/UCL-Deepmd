{
 "cells": [
  {
   "cell_type": "code",
   "execution_count": 1,
   "id": "71376ae3-9ef0-46a1-88aa-4b78787ffd28",
   "metadata": {},
   "outputs": [
    {
     "name": "stdout",
     "output_type": "stream",
     "text": [
      "✅ 成功读取 AIMD 轨迹帧数: 500\n",
      "🎉 成功生成 DeePMD raw 数据集，保存路径: /home/jovyan/Desktop/Cu-DeePMD/00.data/Cu_raw/Cu_dataset/set.000\n"
     ]
    }
   ],
   "source": [
    "import os\n",
    "import shutil\n",
    "import numpy as np\n",
    "from ase.io import read\n",
    "\n",
    "# === 设置路径 ===\n",
    "base_dir = os.getcwd()  # 当前路径，例如 Desktop/Cu-DeePMD/00.data\n",
    "traj_path = os.path.join(base_dir, \"out\", \"Cu.traj\")\n",
    "out_dir = os.path.join(base_dir, \"Cu_dataset\", \"set.000\")\n",
    "\n",
    "# === 检查轨迹文件是否存在 ===\n",
    "if not os.path.exists(traj_path):\n",
    "    raise FileNotFoundError(f\"❌ 找不到轨迹文件: {traj_path}\")\n",
    "\n",
    "# === 读取 ASE Trajectory 文件（全部帧）===\n",
    "frames = read(traj_path, index=\":\")\n",
    "n_frames = len(frames)\n",
    "print(f\"✅ 成功读取 AIMD 轨迹帧数: {n_frames}\")\n",
    "\n",
    "# === 提取原子数据 ===\n",
    "coords   = [atoms.get_positions() for atoms in frames]\n",
    "forces   = [atoms.get_forces() for atoms in frames]\n",
    "energies = [atoms.get_potential_energy() for atoms in frames]\n",
    "virials  = [atoms.get_stress() * atoms.get_volume() for atoms in frames]  # 转换为真实应力张量\n",
    "\n",
    "# === 提取原子类型信息 ===\n",
    "symbols  = frames[0].get_chemical_symbols()\n",
    "types    = [0 for _ in symbols]  # 全部为 Cu，编号为 0\n",
    "type_map = list(set(symbols))    # 输出 ['Cu']\n",
    "\n",
    "# === 创建输出目录（若存在则清空） ===\n",
    "if os.path.exists(out_dir):\n",
    "    shutil.rmtree(out_dir)\n",
    "os.makedirs(out_dir)\n",
    "\n",
    "# === 写入 raw 文件（reshape 统一为 N × D）===\n",
    "np.savetxt(os.path.join(out_dir, \"coord.raw\"),   np.array(coords).reshape(n_frames, -1))\n",
    "np.savetxt(os.path.join(out_dir, \"force.raw\"),   np.array(forces).reshape(n_frames, -1))\n",
    "np.savetxt(os.path.join(out_dir, \"energy.raw\"),  np.array(energies).reshape(-1, 1))\n",
    "np.savetxt(os.path.join(out_dir, \"virial.raw\"),  np.array(virials).reshape(n_frames, -1))\n",
    "np.savetxt(os.path.join(out_dir, \"type.raw\"), np.array(types, dtype=int).reshape(1, -1))\n",
    "\n",
    "# === 写入 box.raw（单位晶格为 3.5755975 立方）===\n",
    "box = np.array([[3.5755975, 0, 0],\n",
    "                [0, 3.5755975, 0],\n",
    "                [0, 0, 3.5755975]])\n",
    "boxes = np.tile(box, (n_frames, 1, 1))\n",
    "np.savetxt(os.path.join(out_dir, \"box.raw\"), boxes.reshape(n_frames, -1))\n",
    "\n",
    "# === 写入 type_map.raw（按行写入元素名）===\n",
    "with open(os.path.join(out_dir, \"type_map.raw\"), \"w\") as f:\n",
    "    f.write(\"\\n\".join(type_map) + \"\\n\")\n",
    "\n",
    "print(f\"🎉 成功生成 DeePMD raw 数据集，保存路径: {out_dir}\")\n"
   ]
  },
  {
   "cell_type": "code",
   "execution_count": 2,
   "id": "21629d63-85ad-48b5-945a-3fc5b7e6dd12",
   "metadata": {},
   "outputs": [
    {
     "name": "stdout",
     "output_type": "stream",
     "text": [
      "🔧 开始修复 raw 文件格式...\n",
      "✅ 已修复 virial.raw 6→9 分量\n",
      "✅ 已修复 type.raw 每帧都记录原子类型\n",
      "🎯 所有 raw 文件修复完成！\n"
     ]
    },
    {
     "name": "stderr",
     "output_type": "stream",
     "text": [
      "/tmp/ipykernel_1000681/3709563740.py:33: DeprecationWarning: loadtxt(): Parsing an integer via a float is deprecated.  To avoid this warning, you can:\n",
      "    * make sure the original data is stored as integers.\n",
      "    * use the `converters=` keyword argument.  If you only use\n",
      "      NumPy 1.23 or later, `converters=float` will normally work.\n",
      "    * Use `np.loadtxt(...).astype(np.int64)` parsing the file as\n",
      "      floating point and then convert it.  (On all NumPy versions.)\n",
      "  (Deprecated NumPy 1.23)\n",
      "  type_data = np.loadtxt(type_file, dtype=int)\n"
     ]
    }
   ],
   "source": [
    "# === 修复 energy / virial / type 文件的格式 ===\n",
    "print(\"🔧 开始修复 raw 文件格式...\")\n",
    "\n",
    "# 重新获取帧数和路径\n",
    "n_frames = len(coords)\n",
    "raw_dir = out_dir  # 即 set.000 目录\n",
    "\n",
    "# === 修复 energy.raw: 变成 (500, 1) ===\n",
    "energy_file = os.path.join(raw_dir, \"energy.raw\")\n",
    "energy_data = np.loadtxt(energy_file)\n",
    "if energy_data.shape == (1, n_frames):\n",
    "    energy_data = energy_data.T\n",
    "    np.savetxt(energy_file, energy_data)\n",
    "    print(\"✅ 已修复 energy.raw 转置为列向量\")\n",
    "\n",
    "# === 修复 virial.raw: (500, 6) → (500, 9) ===\n",
    "virial_file = os.path.join(raw_dir, \"virial.raw\")\n",
    "virial_data = np.loadtxt(virial_file)\n",
    "if virial_data.shape[1] == 6:\n",
    "    v6 = virial_data\n",
    "    v9 = np.zeros((len(v6), 3, 3))\n",
    "    v9[:, 0, 0] = v6[:, 0]  # xx\n",
    "    v9[:, 1, 1] = v6[:, 1]  # yy\n",
    "    v9[:, 2, 2] = v6[:, 2]  # zz\n",
    "    v9[:, 1, 2] = v9[:, 2, 1] = v6[:, 3]  # yz\n",
    "    v9[:, 0, 2] = v9[:, 2, 0] = v6[:, 4]  # xz\n",
    "    v9[:, 0, 1] = v9[:, 1, 0] = v6[:, 5]  # xy\n",
    "    np.savetxt(virial_file, v9.reshape(len(v6), -1))\n",
    "    print(\"✅ 已修复 virial.raw 6→9 分量\")\n",
    "\n",
    "# === 修复 type.raw: (1, N) → (500, N) ===\n",
    "type_file = os.path.join(raw_dir, \"type.raw\")\n",
    "type_data = np.loadtxt(type_file, dtype=int)\n",
    "if type_data.ndim == 1:\n",
    "    type_data = type_data.reshape(1, -1)\n",
    "if type_data.shape[0] == 1:\n",
    "    type_data = np.tile(type_data, (n_frames, 1))\n",
    "    np.savetxt(type_file, type_data, fmt=\"%d\")\n",
    "    print(\"✅ 已修复 type.raw 每帧都记录原子类型\")\n",
    "\n",
    "print(\"🎯 所有 raw 文件修复完成！\")\n"
   ]
  },
  {
   "cell_type": "code",
   "execution_count": 3,
   "id": "489f37e8-1e85-4174-8cfe-70b3a1e66400",
   "metadata": {},
   "outputs": [
    {
     "name": "stdout",
     "output_type": "stream",
     "text": [
      "✅ 修复 energy.raw 为形状 (500, 1)\n"
     ]
    }
   ],
   "source": [
    "# === 修复 energy.raw 为 (500, 1) ===\n",
    "import numpy as np\n",
    "import os\n",
    "\n",
    "energy_path = os.path.join(out_dir, \"energy.raw\")\n",
    "try:\n",
    "    energy_data = np.loadtxt(energy_path)\n",
    "\n",
    "    if energy_data.ndim == 1:  # 1D 情况，修复为 2D\n",
    "        energy_data = energy_data.reshape(-1, 1)\n",
    "        np.savetxt(energy_path, energy_data)\n",
    "        print(\"✅ 修复 energy.raw 为形状 (500, 1)\")\n",
    "    elif energy_data.shape == (500, 1):\n",
    "        print(\"✅ energy.raw 形状已正确，无需修复\")\n",
    "    else:\n",
    "        print(f\"⚠️ energy.raw 有异常形状: {energy_data.shape}，请人工检查\")\n",
    "\n",
    "except Exception as e:\n",
    "    print(f\"❌ 读取 energy.raw 时出错: {e}\")\n"
   ]
  },
  {
   "cell_type": "code",
   "execution_count": null,
   "id": "ab5b654c-d0d2-4b05-9480-55da98edba40",
   "metadata": {},
   "outputs": [],
   "source": []
  }
 ],
 "metadata": {
  "kernelspec": {
   "display_name": "apps",
   "language": "python",
   "name": "apps"
  },
  "language_info": {
   "codemirror_mode": {
    "name": "ipython",
    "version": 3
   },
   "file_extension": ".py",
   "mimetype": "text/x-python",
   "name": "python",
   "nbconvert_exporter": "python",
   "pygments_lexer": "ipython3",
   "version": "3.12.10"
  }
 },
 "nbformat": 4,
 "nbformat_minor": 5
}
