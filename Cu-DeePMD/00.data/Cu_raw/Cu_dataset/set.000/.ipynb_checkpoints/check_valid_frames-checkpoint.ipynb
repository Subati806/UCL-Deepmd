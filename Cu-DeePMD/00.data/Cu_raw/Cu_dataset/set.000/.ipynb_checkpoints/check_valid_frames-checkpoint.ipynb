{
 "cells": [
  {
   "cell_type": "code",
   "execution_count": 1,
   "id": "bb61b2d1-511b-4600-942c-3bb8039d0408",
   "metadata": {},
   "outputs": [
    {
     "name": "stdout",
     "output_type": "stream",
     "text": [
      "📦 推断原子数: 4\n",
      "📦 总帧数（以 coord.raw 为参考）: 500\n",
      "--------------------------------------------------\n",
      "✅ coord.raw OK，帧数: 500\n",
      "✅ force.raw OK，帧数: 500\n",
      "⚠️ energy.raw 实际形状: (1, 500)，预期: (500, 1)\n",
      "✅ virial.raw OK，帧数: 500\n",
      "✅ type.raw OK，帧数: 500\n",
      "✅ box.raw OK，帧数: 500\n",
      "📄 type_map.raw 包含 1 行 (type_map)\n"
     ]
    }
   ],
   "source": [
    "import os\n",
    "import numpy as np\n",
    "\n",
    "# 设置目标目录路径\n",
    "raw_dir = \"/home/jovyan/Desktop/Cu-DeePMD/00.data/Cu_raw/Cu_dataset/set.000\"\n",
    "\n",
    "# 定义每帧的形状规则（单位：原子数、原子数*3、1、3x3、…）\n",
    "# 假设体系中原子数是 N（以 coord.raw 推算）\n",
    "def infer_num_atoms(coord_file):\n",
    "    coords = np.loadtxt(coord_file)\n",
    "    total = coords.size\n",
    "    try:\n",
    "        return total // 3\n",
    "    except ZeroDivisionError:\n",
    "        return 0\n",
    "\n",
    "# 加载 coord.raw 推断原子数和总帧数\n",
    "coord_path = os.path.join(raw_dir, \"coord.raw\")\n",
    "coord = np.loadtxt(coord_path)\n",
    "natoms = coord.shape[1] // 3 if coord.ndim == 2 else coord.size // 3\n",
    "nframes = coord.shape[0] if coord.ndim == 2 else coord.size // (3 * natoms)\n",
    "\n",
    "print(f\"📦 推断原子数: {natoms}\")\n",
    "print(f\"📦 总帧数（以 coord.raw 为参考）: {nframes}\")\n",
    "print(\"-\" * 50)\n",
    "\n",
    "# 定义每个文件应有的元素数/行数规则\n",
    "expected_shapes = {\n",
    "    \"coord.raw\": (nframes, natoms * 3),\n",
    "    \"force.raw\": (nframes, natoms * 3),\n",
    "    \"energy.raw\": (nframes, 1),\n",
    "    \"virial.raw\": (nframes, 9),\n",
    "    \"type.raw\": (nframes, natoms),\n",
    "    \"box.raw\": (nframes, 9),\n",
    "    \"type_map.raw\": \"text\"\n",
    "}\n",
    "\n",
    "# 检查所有文件的形状\n",
    "for fname, expected in expected_shapes.items():\n",
    "    fpath = os.path.join(raw_dir, fname)\n",
    "    if not os.path.exists(fpath):\n",
    "        print(f\"❌ 缺失文件: {fname}\")\n",
    "        continue\n",
    "\n",
    "    if expected == \"text\":\n",
    "        with open(fpath) as f:\n",
    "            lines = f.readlines()\n",
    "        print(f\"📄 {fname} 包含 {len(lines)} 行 (type_map)\")\n",
    "        continue\n",
    "\n",
    "    try:\n",
    "        data = np.loadtxt(fpath)\n",
    "        if data.ndim == 1:\n",
    "            data = data.reshape(1, -1)\n",
    "        actual_shape = data.shape\n",
    "        if actual_shape != expected:\n",
    "            print(f\"⚠️ {fname} 实际形状: {actual_shape}，预期: {expected}\")\n",
    "        else:\n",
    "            print(f\"✅ {fname} OK，帧数: {actual_shape[0]}\")\n",
    "    except Exception as e:\n",
    "        print(f\"❌ {fname} 加载失败: {e}\")\n"
   ]
  },
  {
   "cell_type": "code",
   "execution_count": null,
   "id": "ca3a1d30-5340-4bf5-8af6-51146e5fa9c8",
   "metadata": {},
   "outputs": [],
   "source": []
  }
 ],
 "metadata": {
  "kernelspec": {
   "display_name": "apps",
   "language": "python",
   "name": "apps"
  },
  "language_info": {
   "codemirror_mode": {
    "name": "ipython",
    "version": 3
   },
   "file_extension": ".py",
   "mimetype": "text/x-python",
   "name": "python",
   "nbconvert_exporter": "python",
   "pygments_lexer": "ipython3",
   "version": "3.12.10"
  }
 },
 "nbformat": 4,
 "nbformat_minor": 5
}
