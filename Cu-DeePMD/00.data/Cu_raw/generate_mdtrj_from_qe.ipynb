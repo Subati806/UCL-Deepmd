{
 "cells": [
  {
   "cell_type": "code",
   "execution_count": 1,
   "id": "89799ce9-0647-47c1-9dac-7b7f4c7ccdf3",
   "metadata": {},
   "outputs": [
    {
     "name": "stdout",
     "output_type": "stream",
     "text": [
      "✅ 读取 AIMD 输出帧数: 500\n",
      "🎉 成功写入轨迹文件: out/Cu.traj\n"
     ]
    }
   ],
   "source": [
    "from ase.io.espresso import read_espresso_out\n",
    "from ase.io import write\n",
    "import os\n",
    "\n",
    "# AIMD 输出文件\n",
    "qe_output = \"out/Cu.aimd.out\"\n",
    "out_dir = \"out\"\n",
    "\n",
    "# === 检查文件是否存在 ===\n",
    "if not os.path.exists(qe_output):\n",
    "    raise FileNotFoundError(f\"❌ 找不到 AIMD 输出文件: {qe_output}\")\n",
    "\n",
    "# === 打开文件并传给 read_espresso_out（避免关闭文件后出错）===\n",
    "with open(qe_output, \"r\") as f:\n",
    "    frames = list(read_espresso_out(f, index=slice(None)))\n",
    "    print(f\"✅ 读取 AIMD 输出帧数: {len(frames)}\")\n",
    "\n",
    "# === 输出为 ASE 标准轨迹 ===\n",
    "traj_path = os.path.join(out_dir, \"Cu.traj\")\n",
    "write(traj_path, frames)\n",
    "print(f\"🎉 成功写入轨迹文件: {traj_path}\")\n"
   ]
  },
  {
   "cell_type": "code",
   "execution_count": null,
   "id": "272ed8f0-aa62-494a-8a89-86bd81bfc149",
   "metadata": {},
   "outputs": [],
   "source": []
  }
 ],
 "metadata": {
  "kernelspec": {
   "display_name": "apps",
   "language": "python",
   "name": "apps"
  },
  "language_info": {
   "codemirror_mode": {
    "name": "ipython",
    "version": 3
   },
   "file_extension": ".py",
   "mimetype": "text/x-python",
   "name": "python",
   "nbconvert_exporter": "python",
   "pygments_lexer": "ipython3",
   "version": "3.12.10"
  }
 },
 "nbformat": 4,
 "nbformat_minor": 5
}
