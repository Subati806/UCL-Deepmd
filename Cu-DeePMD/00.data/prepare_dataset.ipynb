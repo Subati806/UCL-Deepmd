{
 "cells": [
  {
   "cell_type": "code",
   "execution_count": 1,
   "id": "28bf36d6-1452-44ad-b3ab-f1f96038c6a5",
   "metadata": {},
   "outputs": [
    {
     "name": "stdout",
     "output_type": "stream",
     "text": [
      "✅ 加载成功，总帧数: 500\n",
      "🎉 数据集划分完成！训练帧: 400, 验证帧: 100\n"
     ]
    }
   ],
   "source": [
    "import os\n",
    "import numpy as np\n",
    "import dpdata\n",
    "\n",
    "# === 设置路径 ===\n",
    "raw_dir = \"/home/jovyan/Desktop/Cu-DeePMD/00.data/Cu_raw/Cu_dataset/set.000\"\n",
    "out_train = \"/home/jovyan/Desktop/Cu-DeePMD/00.data/training_data\"\n",
    "out_val = \"/home/jovyan/Desktop/Cu-DeePMD/00.data/validation_data\"\n",
    "type_map = [\"Cu\"]\n",
    "\n",
    "# === 加载 raw 文件 ===\n",
    "coord = np.loadtxt(os.path.join(raw_dir, \"coord.raw\")).reshape(-1, 4, 3)\n",
    "force = np.loadtxt(os.path.join(raw_dir, \"force.raw\")).reshape(-1, 4, 3)\n",
    "virial = np.loadtxt(os.path.join(raw_dir, \"virial.raw\")).reshape(-1, 3, 3)\n",
    "box = np.loadtxt(os.path.join(raw_dir, \"box.raw\")).reshape(-1, 3, 3)\n",
    "energy = np.loadtxt(os.path.join(raw_dir, \"energy.raw\")).reshape(-1, 1)\n",
    "type_data = np.loadtxt(os.path.join(raw_dir, \"type.raw\"), dtype=int).reshape(-1, 4)\n",
    "\n",
    "n_frames = coord.shape[0]\n",
    "\n",
    "# === 构建 data 字典，包含 orig ===\n",
    "data = {\n",
    "    \"coords\": coord,\n",
    "    \"forces\": force,\n",
    "    \"energies\": energy.squeeze(),     # shape (500,)\n",
    "    \"virials\": virial,\n",
    "    \"box\": box,\n",
    "    \"cells\": box,\n",
    "    \"types\": type_data,\n",
    "    \"atom_types\": type_data[0],\n",
    "    \"atom_numbs\": [4],\n",
    "    \"atom_names\": [\"Cu\"],\n",
    "    \"orig\": np.arange(3)              # ✅ 添加 orig 字段\n",
    "}\n",
    "\n",
    "# === 构建 LabeledSystem 对象 ===\n",
    "system = dpdata.LabeledSystem(data=data, type_map=type_map)\n",
    "print(f\"✅ 加载成功，总帧数: {len(system)}\")\n",
    "\n",
    "# === 划分训练/验证集 ===\n",
    "rng = np.random.default_rng(42)\n",
    "val_size = int(0.2 * n_frames)\n",
    "val_idx = rng.choice(n_frames, size=val_size, replace=False)\n",
    "train_idx = list(set(range(n_frames)) - set(val_idx))\n",
    "\n",
    "train_sys = system.sub_system(train_idx)\n",
    "val_sys = system.sub_system(val_idx)\n",
    "\n",
    "# === 输出数据 ===\n",
    "train_sys.to_deepmd_npy(out_train)\n",
    "val_sys.to_deepmd_npy(out_val)\n",
    "\n",
    "print(f\"🎉 数据集划分完成！训练帧: {len(train_sys)}, 验证帧: {len(val_sys)}\")\n"
   ]
  },
  {
   "cell_type": "code",
   "execution_count": null,
   "id": "d502e805-fca7-475f-ba87-d36693d999c3",
   "metadata": {},
   "outputs": [],
   "source": []
  }
 ],
 "metadata": {
  "kernelspec": {
   "display_name": "apps",
   "language": "python",
   "name": "apps"
  },
  "language_info": {
   "codemirror_mode": {
    "name": "ipython",
    "version": 3
   },
   "file_extension": ".py",
   "mimetype": "text/x-python",
   "name": "python",
   "nbconvert_exporter": "python",
   "pygments_lexer": "ipython3",
   "version": "3.12.10"
  }
 },
 "nbformat": 4,
 "nbformat_minor": 5
}
