{
 "cells": [
  {
   "cell_type": "code",
   "execution_count": 1,
   "id": "86d474b9-e417-4fb0-89aa-763d71e882d7",
   "metadata": {},
   "outputs": [
    {
     "name": "stdout",
     "output_type": "stream",
     "text": [
      "✅ input.json 已生成在: /home/jovyan/Desktop/Cu-DeePMD/01.train/input.json\n"
     ]
    }
   ],
   "source": [
    "import json\n",
    "input_json_path = \"/home/jovyan/Desktop/Cu-DeePMD/01.train/input.json\"\n",
    "\n",
    "input_config = {\n",
    "    \"model\": {\n",
    "        \"type_map\": [\"Cu\"],\n",
    "        \"descriptor\": {\n",
    "            \"type\": \"se_e2_a\",\n",
    "            \"rcut\": 6.0,\n",
    "            \"rcut_smth\": 0.5,\n",
    "            \"sel\": \"auto\",\n",
    "            \"neuron\": [25, 50, 100],\n",
    "            \"resnet_dt\": False,\n",
    "            \"axis_neuron\": 16,\n",
    "            \"seed\": 1\n",
    "        },\n",
    "        \"fitting_net\": {\n",
    "            \"neuron\": [240, 240, 240],\n",
    "            \"resnet_dt\": True,\n",
    "            \"seed\": 1\n",
    "        }\n",
    "    },\n",
    "    \"learning_rate\": {\n",
    "        \"type\": \"exp\",\n",
    "        \"decay_steps\": 50,\n",
    "        \"start_lr\": 0.001,\n",
    "        \"stop_lr\": 3.51e-8\n",
    "    },\n",
    "    \"loss\": {\n",
    "        \"type\": \"ener\",\n",
    "        \"start_pref_e\": 0.02,\n",
    "        \"limit_pref_e\": 1,\n",
    "        \"start_pref_f\": 1000,\n",
    "        \"limit_pref_f\": 1,\n",
    "        \"start_pref_v\": 0,\n",
    "        \"limit_pref_v\": 0\n",
    "    },\n",
    "    \"training\": {\n",
    "        \"training_data\": {\n",
    "            \"systems\": [\"../00.data/training_data\"],\n",
    "            \"batch_size\": \"auto\"\n",
    "        },\n",
    "        \"validation_data\": {\n",
    "            \"systems\": [\"../00.data/validation_data\"],\n",
    "            \"batch_size\": \"auto\"\n",
    "        },\n",
    "        \"numb_steps\": 10000,\n",
    "        \"seed\": 10,\n",
    "        \"disp_file\": \"lcurve.out\",\n",
    "        \"disp_freq\": 200,\n",
    "        \"save_freq\": 1000\n",
    "    }\n",
    "}\n",
    "\n",
    "with open(input_json_path, \"w\") as f:\n",
    "    json.dump(input_config, f, indent=2)\n",
    "print(\"✅ input.json 已生成在:\", input_json_path)\n"
   ]
  },
  {
   "cell_type": "code",
   "execution_count": null,
   "id": "ea60143c-469f-4061-8fbe-9f271bbddae4",
   "metadata": {},
   "outputs": [],
   "source": []
  }
 ],
 "metadata": {
  "kernelspec": {
   "display_name": "apps",
   "language": "python",
   "name": "apps"
  },
  "language_info": {
   "codemirror_mode": {
    "name": "ipython",
    "version": 3
   },
   "file_extension": ".py",
   "mimetype": "text/x-python",
   "name": "python",
   "nbconvert_exporter": "python",
   "pygments_lexer": "ipython3",
   "version": "3.12.10"
  }
 },
 "nbformat": 4,
 "nbformat_minor": 5
}
